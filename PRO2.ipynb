{
 "cells": [
  {
   "cell_type": "markdown",
   "metadata": {},
   "source": [
    "# Conclusiones"
   ]
  },
  {
   "cell_type": "markdown",
   "metadata": {},
   "source": [
    "Podemos ver como panda sirve para el análisis de datos. En esta presentación en específico vemos como se puede utilizar para la visualización de datos de la bolsa de valores. Esto podría en un escenario más avanzado y teniendo más conocimientos de finanzas servir para hacer modelos estocasticos para predecir el movimiento a futuro. Esto nos dice que panda es una herramienta que podría servirle a cualquier persona que trabaje en el área de la bolsa de valores o inversiones ya que te permite "
   ]
  },
  {
   "cell_type": "code",
   "execution_count": null,
   "metadata": {},
   "outputs": [],
   "source": []
  }
 ],
 "metadata": {
  "kernelspec": {
   "display_name": "Python 3",
   "language": "python",
   "name": "python3"
  },
  "language_info": {
   "codemirror_mode": {
    "name": "ipython",
    "version": 3
   },
   "file_extension": ".py",
   "mimetype": "text/x-python",
   "name": "python",
   "nbconvert_exporter": "python",
   "pygments_lexer": "ipython3",
   "version": "3.6.5"
  }
 },
 "nbformat": 4,
 "nbformat_minor": 2
}
