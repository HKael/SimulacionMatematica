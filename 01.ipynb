{
 "cells": [
  {
   "cell_type": "markdown",
   "metadata": {},
   "source": [
    "# Why Python?"
   ]
  },
  {
   "cell_type": "markdown",
   "metadata": {},
   "source": [
    "## Python is becoming the world’s most popular coding language."
   ]
  },
  {
   "cell_type": "markdown",
   "metadata": {},
   "source": [
    "Initially created by Guido van Rossum, \n",
    "a Dutch computer scientist, in 1989. \n",
    "Python has slowly become one of the most \n",
    "popular languages in America and the World.\n",
    "\n",
    "The reason behind this language's popularity is mainly\n",
    "it's simplicity and flexibility. This makes it easy for \n",
    "new users to learn and ready while also allowing experienced\n",
    "ones to share their works.\n",
    "\n",
    "This experienced users, known as Pythonistas, have uploaded more \n",
    "than 145,000 custom-built software packages to an online repository.\n",
    "Covering themes from game development to astronomy. \n",
    "\n",
    "Python isn't just for individuals, it's also used by some of the biggest\n",
    "companies in the world. The CIA, Google, Pixar and Spotify all use Python. It's also used extensively in the world of machine learning. (Something quite useful for us Financial Engineers.)\n",
    "\n",
    "With all of this factos Python has become the lingua franca of coding, quickly rendering other options obsolete. However C and C++ users shall not fear as they give the user more control over what's going on in a computers processor. Nor does Java or JavaScript, which power most web pages."
   ]
  },
  {
   "cell_type": "markdown",
   "metadata": {},
   "source": [
    "## Python has brought computer programming to a vast new audience"
   ]
  },
  {
   "cell_type": "markdown",
   "metadata": {},
   "source": [
    "This language's popularity has not grown only between professional developers but also with \"the ordinary folk\". Codeacademy, a website that teaches programming languages, has seen the biggest increase in the interest to learn Python. \n",
    "\n",
    "It's usefulness has shown to be universal and not only giving an utility to developers. Marketers, for instance, can use the language to build statistical models that measure the effectiveness of campaigns. College lecturers can check whether they are distributing grades properly. \n",
    "\n",
    "It has also become essential for analysts immersed in the world of finances and banking. Making it a valuable tool in almost every subject."
   ]
  },
  {
   "cell_type": "markdown",
   "metadata": {},
   "source": [
    "## MathJax"
   ]
  },
  {
   "cell_type": "markdown",
   "metadata": {},
   "source": [
    "It's a JavaScript display engine for mathematics that works in all browsers. It makes wonders in the readibility of a document."
   ]
  },
  {
   "cell_type": "markdown",
   "metadata": {},
   "source": [
    "It changes things from..."
   ]
  },
  {
   "cell_type": "markdown",
   "metadata": {},
   "source": [
    "> this"
   ]
  },
  {
   "cell_type": "markdown",
   "metadata": {},
   "source": [
    "* f(a) = \\frac{1}{2\\pi i} \\oint\\frac{f(z)}{z-a}dz"
   ]
  },
  {
   "cell_type": "markdown",
   "metadata": {},
   "source": [
    "> to that"
   ]
  },
  {
   "cell_type": "markdown",
   "metadata": {},
   "source": [
    "$$ f(a) = \\frac{1}{2\\pi i} \\oint\\frac{f(z)}{z-a}dz $$"
   ]
  }
 ],
 "metadata": {
  "kernelspec": {
   "display_name": "Python 3",
   "language": "python",
   "name": "python3"
  },
  "language_info": {
   "codemirror_mode": {
    "name": "ipython",
    "version": 3
   },
   "file_extension": ".py",
   "mimetype": "text/x-python",
   "name": "python",
   "nbconvert_exporter": "python",
   "pygments_lexer": "ipython3",
   "version": "3.6.5"
  }
 },
 "nbformat": 4,
 "nbformat_minor": 2
}
